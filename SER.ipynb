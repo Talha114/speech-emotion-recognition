{
  "cells": [
    {
      "cell_type": "markdown",
      "metadata": {
        "id": "QvCWYwBWBo09"
      },
      "source": [
        "# Author: Talha Ali Khan"
      ]
    },
    {
      "cell_type": "markdown",
      "metadata": {
        "id": "OhLLjjW6Bo0_"
      },
      "source": [
        "# Project: SER (Speech Emotion Recognition)"
      ]
    },
    {
      "cell_type": "markdown",
      "metadata": {
        "id": "p23n2ZnDBo0_"
      },
      "source": [
        "# Importing Libraries"
      ]
    },
    {
      "cell_type": "code",
      "execution_count": null,
      "metadata": {
        "id": "hgU7nBaZBo0_",
        "scrolled": true
      },
      "outputs": [],
      "source": [
        "import librosa\n",
        "import soundfile as sf\n",
        "import numpy as np\n",
        "import pandas as pd\n",
        "import matplotlib.pyplot as plt\n",
        "import seaborn as sns\n",
        "import pickle\n",
        "import os\n",
        "import glob"
      ]
    },
    {
      "cell_type": "markdown",
      "metadata": {
        "id": "ek8uY5n5Bo1A"
      },
      "source": [
        "# Feature Extraction"
      ]
    },
    {
      "cell_type": "code",
      "execution_count": null,
      "metadata": {
        "id": "adwPmY3dBo1A"
      },
      "outputs": [],
      "source": [
        "c1 = True # MFCC\n",
        "c2 = True # Chroma\n",
        "c3 = True # Mel Spectrogram\n",
        "c4 = True # Contrast Spectrogram\n",
        "c5 = True # Tonnetz"
      ]
    },
    {
      "cell_type": "code",
      "execution_count": null,
      "metadata": {
        "id": "u1bUKteCBo1A"
      },
      "outputs": [],
      "source": [
        "def extractFeatures(file):    \n",
        "    with sf.SoundFile(file) as sound_file:  \n",
        "            \n",
        "        features = np.array([])\n",
        "\n",
        "        X = sound_file.read(dtype=\"float32\")\n",
        "        sample_rate = sound_file.samplerate\n",
        "\n",
        "        if(c2 or c4):\n",
        "            stft = np.abs(librosa.stft(X))\n",
        "\n",
        "        if(c1):\n",
        "            MFCC_Features = np.mean(librosa.feature.mfcc(y=X, sr=sample_rate, n_mfcc=47).T, axis=0)\n",
        "            features = np.hstack((features, MFCC_Features))\n",
        "\n",
        "        if(c2):\n",
        "            chroma = np.mean(librosa.feature.chroma_stft(S=stft, sr=sample_rate).T,axis=0)\n",
        "            features = np.hstack((features, chroma))\n",
        "\n",
        "        if(c3):\n",
        "            y, sr = librosa.load(librosa.ex(sound_file))\n",
        "            mel = np.mean(librosa.feature.melspectrogram(y, sr=sr).T,axis=0)\n",
        "            features = np.hstack((features, mel))\n",
        "\n",
        "        if(c4):\n",
        "            contrast = np.mean(librosa.feature.spectral_contrast(S=stft, sr=sample_rate).T,axis=0)\n",
        "            features = np.hstack((features, contrast))\n",
        "\n",
        "        if(c5):\n",
        "            tonnetz = np.mean(librosa.feature.tonnetz(y=librosa.effects.harmonic(X), sr=sample_rate).T,axis=0)\n",
        "            features = np.hstack((features, tonnetz))\n",
        "    \n",
        "    return features"
      ]
    },
    {
      "cell_type": "code",
      "execution_count": null,
      "metadata": {
        "id": "tSz-ZJwUBo1A"
      },
      "outputs": [],
      "source": [
        "def extractTrainData():\n",
        "    X, y = [], []\n",
        "    l = os.listdir('SERDataset/Train')   \n",
        "    for label in l:     \n",
        "        for file in glob.glob(\"SERDataset/Train/\" + label + \"/*.wav\"):    \n",
        "\n",
        "            # get the emotion label    \n",
        "            emotion = label\n",
        "\n",
        "            # extract speech features\n",
        "            features = extractFeatures(file)     \n",
        "            \n",
        "            # add to data\n",
        "            X.append(features)\n",
        "            y.append(emotion)   \n",
        "        \n",
        "    return X,y"
      ]
    },
    {
      "cell_type": "code",
      "execution_count": null,
      "metadata": {
        "id": "NnXxjwD_Bo1B"
      },
      "outputs": [],
      "source": [
        "X1, y1 = [], []\n",
        "X1, y1 = extractTrainData()"
      ]
    },
    {
      "cell_type": "code",
      "execution_count": null,
      "metadata": {
        "id": "cMynkKZUBo1B"
      },
      "outputs": [],
      "source": [
        "def extractTestData():\n",
        "    X, y = [], []\n",
        "    l = os.listdir('SERDataset/Test')   \n",
        "    for label in l:     \n",
        "        for file in glob.glob(\"SERDataset/Test/\" + label + \"/*.wav\"):    \n",
        "\n",
        "            # get the emotion label    \n",
        "            emotion = label\n",
        "\n",
        "            # extract speech features\n",
        "            features = extractFeatures(file)            \n",
        "            # add to data\n",
        "            X.append(features)\n",
        "            y.append(emotion)   \n",
        "        \n",
        "    return X,y"
      ]
    },
    {
      "cell_type": "code",
      "execution_count": null,
      "metadata": {
        "id": "l8TOmCu2Bo1B"
      },
      "outputs": [],
      "source": [
        "X2, y2 = [], []\n",
        "X2, y2 = extractTestData()"
      ]
    },
    {
      "cell_type": "code",
      "execution_count": null,
      "metadata": {
        "id": "HaFjNk6KBo1B",
        "outputId": "71d32c5f-8c8f-486b-bf03-236515d91a09",
        "scrolled": true
      },
      "outputs": [
        {
          "name": "stdout",
          "output_type": "stream",
          "text": [
            "Features Extracted\n",
            "1. MFCC\n",
            "2. Chroma\n",
            "3. Mel Spectrogram\n",
            "4. Contrast Spectrogram\n",
            "5. Tonnetz\n"
          ]
        }
      ],
      "source": [
        "print('Features Extracted')\n",
        "print('1. MFCC')\n",
        "print('2. Chroma')\n",
        "print('3. Mel Spectrogram')\n",
        "print('4. Contrast Spectrogram')\n",
        "print('5. Tonnetz')"
      ]
    },
    {
      "cell_type": "markdown",
      "metadata": {
        "id": "QBFZwNHHBo1C"
      },
      "source": [
        "# Train"
      ]
    },
    {
      "cell_type": "markdown",
      "metadata": {
        "id": "a_tkYy23Bo1C"
      },
      "source": [
        "### Splitting data into test and train"
      ]
    },
    {
      "cell_type": "code",
      "execution_count": null,
      "metadata": {
        "id": "P5hy0OpnBo1C"
      },
      "outputs": [],
      "source": [
        "X_train = np.array(X1)\n",
        "y_train = np.array(y1)"
      ]
    },
    {
      "cell_type": "code",
      "execution_count": null,
      "metadata": {
        "id": "gAV615yPBo1C"
      },
      "outputs": [],
      "source": [
        "X_test = np.array(X2)\n",
        "y_test = np.array(y2)"
      ]
    },
    {
      "cell_type": "markdown",
      "metadata": {
        "id": "OkZ7swu5Bo1C"
      },
      "source": [
        "### Training Model"
      ]
    },
    {
      "cell_type": "code",
      "execution_count": null,
      "metadata": {
        "id": "_oYx-V-5Bo1C"
      },
      "outputs": [],
      "source": [
        "# from sklearn.svm import SVC # \"Support vector classifier\"\n",
        "# model = SVC(kernel='linear', C=1E10)\n",
        "# model.fit(X_train, y_train)"
      ]
    },
    {
      "cell_type": "code",
      "execution_count": null,
      "metadata": {
        "id": "MQzhCfDuBo1C"
      },
      "outputs": [],
      "source": [
        "# save model to disk\n",
        "# pickle.dump(model, open(\"proj-model.csv\", 'wb'))\n",
        "\n",
        "# load the model from disk\n",
        "model = pickle.load(open(\"proj-model.csv\", 'rb'))"
      ]
    },
    {
      "cell_type": "code",
      "execution_count": null,
      "metadata": {
        "id": "FoI3Sa0XBo1D"
      },
      "outputs": [],
      "source": [
        "y_model = model.predict(X_test)"
      ]
    },
    {
      "cell_type": "markdown",
      "metadata": {
        "id": "orMI1ukyBo1D"
      },
      "source": [
        "# Graph"
      ]
    },
    {
      "cell_type": "code",
      "execution_count": null,
      "metadata": {
        "id": "vUQAvLUiBo1D"
      },
      "outputs": [],
      "source": [
        "data = X1 + X2\n",
        "labels = y1 + y2\n",
        "\n",
        "f_half = np.array(data).shape[1]\n",
        "s_half = 0\n",
        "\n",
        "if f_half % 2 == 0:\n",
        "    f_half = s_half = int(f_half/2)\n",
        "else:\n",
        "    f_half = int(f_half/2)\n",
        "    s_half = f_half + 1   \n",
        "first_half , second_half = [], []\n",
        "\n",
        "for audio in data:\n",
        "    f1, f2 = [], []       \n",
        "    for features in enumerate (audio):          \n",
        "        if features[0] < f_half:\n",
        "            f1.append(features[1])\n",
        "        else:\n",
        "            f2.append(features[1])\n",
        "    \n",
        "    first_half.append(np.mean(f1))\n",
        "    second_half.append(np.mean(f2))\n",
        "    \n",
        "df = pd.DataFrame(first_half, columns = ['first_half'])\n",
        "df['second_half'] = second_half\n",
        "df['labels'] = labels    "
      ]
    },
    {
      "cell_type": "code",
      "execution_count": null,
      "metadata": {
        "id": "NA5sjzBfBo1D",
        "outputId": "c9aba822-3fe2-4c50-bf35-de138903ab6f"
      },
      "outputs": [
        {
          "data": {
            "image/png": "[encoded data removed]",
            "text/plain": [
              "<Figure size 937x864 with 1 Axes>"
            ]
          },
          "metadata": {
            "needs_background": "light"
          },
          "output_type": "display_data"
        }
      ],
      "source": [
        "sns.FacetGrid(df, hue =\"labels\", height = 12).map(plt.scatter, 'first_half', 'second_half').add_legend()\n",
        "plt.savefig('scatterplot.png')"
      ]
    },
    {
      "cell_type": "markdown",
      "metadata": {
        "id": "n5p7c0KdBo1D"
      },
      "source": [
        "# Accuracy"
      ]
    },
    {
      "cell_type": "markdown",
      "metadata": {
        "id": "i1kSDYtnBo1D"
      },
      "source": [
        "### Cross Val Score"
      ]
    },
    {
      "cell_type": "code",
      "execution_count": null,
      "metadata": {
        "id": "pA1-RGMiBo1D",
        "outputId": "d362d6c9-bd92-44a6-fccd-b8844e44950d"
      },
      "outputs": [
        {
          "data": {
            "text/plain": [
              "array([0.82022472, 0.80898876, 0.87640449, 0.97752809, 0.83146067])"
            ]
          },
          "execution_count": 16,
          "metadata": {},
          "output_type": "execute_result"
        }
      ],
      "source": [
        "x = X1 + X2\n",
        "y = y1 + y2\n",
        "X = np.array(x)\n",
        "Y = np.array(y)\n",
        "\n",
        "from sklearn.model_selection import cross_val_score\n",
        "cross_val_score(model, X, Y, cv = 5)"
      ]
    },
    {
      "cell_type": "markdown",
      "metadata": {
        "id": "ORf1fb83Bo1E"
      },
      "source": [
        "### Accuracy"
      ]
    },
    {
      "cell_type": "code",
      "execution_count": null,
      "metadata": {
        "id": "qE1dcbuUBo1E",
        "outputId": "3bcfffed-1c03-4967-ed60-13217c40d822"
      },
      "outputs": [
        {
          "name": "stdout",
          "output_type": "stream",
          "text": [
            "Accuracy: 100.0 %\n"
          ]
        }
      ],
      "source": [
        "from sklearn.metrics import accuracy_score\n",
        "acc = accuracy_score(y_test, y_model) * 100\n",
        "print('Accuracy:', round(acc,2), '%')"
      ]
    },
    {
      "cell_type": "markdown",
      "metadata": {
        "id": "X5P6JkIRBo1E"
      },
      "source": [
        "# Prediction"
      ]
    },
    {
      "cell_type": "code",
      "execution_count": null,
      "metadata": {
        "id": "Wd-XnjnHBo1E"
      },
      "outputs": [],
      "source": [
        "def extractDataForPrediction():\n",
        "    x = []              \n",
        "    # extract speech features    \n",
        "    file = 'SERDataset/Test/Sad/SM25_F34_S084.wav'    \n",
        "    features = extractFeatures(file)        \n",
        "    # add to data\n",
        "    x.append(features)     \n",
        "    return x"
      ]
    },
    {
      "cell_type": "code",
      "execution_count": null,
      "metadata": {
        "id": "jpHsTzwOBo1E"
      },
      "outputs": [],
      "source": [
        "X_test = extractDataForPrediction()"
      ]
    },
    {
      "cell_type": "code",
      "execution_count": null,
      "metadata": {
        "id": "UkRAgc7QBo1E",
        "outputId": "e2a97453-d2ba-48ed-d132-352661e04d95"
      },
      "outputs": [
        {
          "data": {
            "text/plain": [
              "'Sad'"
            ]
          },
          "execution_count": 20,
          "metadata": {},
          "output_type": "execute_result"
        }
      ],
      "source": [
        "prediction = model.predict(X_test)[0]\n",
        "prediction"
      ]
    }
  ],
  "metadata": {
    "colab": {
      "provenance": []
    },
    "kernelspec": {
      "display_name": "Python 3 (ipykernel)",
      "language": "python",
      "name": "python3"
    },
    "language_info": {
      "codemirror_mode": {
        "name": "ipython",
        "version": 3
      },
      "file_extension": ".py",
      "mimetype": "text/x-python",
      "name": "python",
      "nbconvert_exporter": "python",
      "pygments_lexer": "ipython3",
      "version": "3.10.10"
    }
  },
  "nbformat": 4,
  "nbformat_minor": 0
}
